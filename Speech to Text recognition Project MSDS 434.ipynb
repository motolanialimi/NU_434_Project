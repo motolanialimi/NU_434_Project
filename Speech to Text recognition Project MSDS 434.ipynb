{
 "cells": [
  {
   "cell_type": "markdown",
   "metadata": {},
   "source": [
    "## SPEECH RECOGNITION"
   ]
  },
  {
   "cell_type": "code",
   "execution_count": 2,
   "metadata": {},
   "outputs": [
    {
     "ename": "ModuleNotFoundError",
     "evalue": "No module named 'pafy'",
     "output_type": "error",
     "traceback": [
      "\u001b[1;31m---------------------------------------------------------------------------\u001b[0m",
      "\u001b[1;31mModuleNotFoundError\u001b[0m                       Traceback (most recent call last)",
      "\u001b[1;32m<ipython-input-2-c37a9b251419>\u001b[0m in \u001b[0;36m<module>\u001b[1;34m()\u001b[0m\n\u001b[0;32m      2\u001b[0m \u001b[1;32mimport\u001b[0m \u001b[0mspeech_recognition\u001b[0m \u001b[1;32mas\u001b[0m \u001b[0mspr\u001b[0m\u001b[1;33m\u001b[0m\u001b[0m\n\u001b[0;32m      3\u001b[0m \u001b[1;32mimport\u001b[0m \u001b[0mwebbrowser\u001b[0m \u001b[1;32mas\u001b[0m \u001b[0mwb\u001b[0m\u001b[1;33m\u001b[0m\u001b[0m\n\u001b[1;32m----> 4\u001b[1;33m \u001b[1;32mimport\u001b[0m \u001b[0mpafy\u001b[0m\u001b[1;33m\u001b[0m\u001b[0m\n\u001b[0m\u001b[0;32m      5\u001b[0m \u001b[1;32mimport\u001b[0m \u001b[0mvlc\u001b[0m\u001b[1;33m\u001b[0m\u001b[0m\n\u001b[0;32m      6\u001b[0m \u001b[1;32mimport\u001b[0m \u001b[0murllib\u001b[0m\u001b[1;33m.\u001b[0m\u001b[0mrequest\u001b[0m\u001b[1;33m\u001b[0m\u001b[0m\n",
      "\u001b[1;31mModuleNotFoundError\u001b[0m: No module named 'pafy'"
     ]
    }
   ],
   "source": [
    "# Import Speech Recognition Package\n",
    "import speech_recognition as spr\n",
    "import webbrowser as wb\n",
    "import pafy\n",
    "import vlc\n",
    "import urllib.request\n",
    "from bs4 import BeautifulSoup\n",
    "import time"
   ]
  },
  {
   "cell_type": "code",
   "execution_count": null,
   "metadata": {},
   "outputs": [],
   "source": [
    "#Create an empty list to store all the video URLs from the youtube.com page\n",
    "linklist = []\n"
   ]
  },
  {
   "cell_type": "code",
   "execution_count": null,
   "metadata": {},
   "outputs": [],
   "source": [
    "#Create Recognizer() class objects called recog1 and recog2\n",
    "recog1 = spr.Recognizer()\n",
    "recog2 = spr.Recognizer()"
   ]
  },
  {
   "cell_type": "code",
   "execution_count": null,
   "metadata": {},
   "outputs": [],
   "source": [
    "#Create microphone instance with device microphone chosen whose index value is 0\n",
    "mc = spr.Microphone(device_index=0)\n"
   ]
  },
  {
   "cell_type": "code",
   "execution_count": null,
   "metadata": {},
   "outputs": [],
   "source": [
    "#Capture voice\n",
    "with mc as source:\n",
    "    print(\"Search Youtube video to play\")\n",
    "    print(\"----------------------------\")\n",
    "    print(\"You can speak now\")\n",
    "    audio = recog1.listen(source)"
   ]
  },
  {
   "cell_type": "code",
   "execution_count": null,
   "metadata": {},
   "outputs": [],
   "source": [
    "#Based on speech, open youtube search page in a browser, get the first video link and play it in VLC media player\n",
    "if 'search' in recog1.recognize_google(audio):\n",
    "    recog1 = spr.Recognizer()\n",
    "    url = 'https://www.youtube.com/results?search_query='\n",
    "    with mc as source:\n",
    "        print('Searching for the video(s)...')\n",
    "        audio = recog2.listen(source)\n",
    "        \n",
    "        try:\n",
    "            get_keyword = recog1.recognize_google(audio)\n",
    "            print(get_keyword)\n",
    "            wb.get().open_new(url+get_keyword)\n",
    "            response = urllib.request.urlopen(url+get_keyword)\n",
    "            html = response.read()\n",
    "            soup = BeautifulSoup(html, 'html.parser')\n",
    "            for vid in soup.findAll(attrs={'class':'yt-uix-tile-link'}):\n",
    "                linklist.append('https://www.youtube.com' +vid['href'])\n",
    "            videolink = pafy.new(linklist[1])\n",
    "            bestlink = videolink.getbest()\n",
    "            media = vlc.MediaPlayer(bestlink.url)\n",
    "            media.play()\n",
    "#             time.sleep(60)\n",
    "#             media.stop()\n",
    "        except spr.UnknownValueError:\n",
    "            print(\"Unable to understand the input\")\n",
    "        except spr.RequestError as e:\n",
    "            print(\"Unable to provide required output\".format(e))"
   ]
  },
  {
   "cell_type": "code",
   "execution_count": null,
   "metadata": {},
   "outputs": [],
   "source": [
    "media.stop()"
   ]
  },
  {
   "cell_type": "code",
   "execution_count": null,
   "metadata": {},
   "outputs": [],
   "source": []
  },
  {
   "cell_type": "code",
   "execution_count": null,
   "metadata": {},
   "outputs": [],
   "source": []
  },
  {
   "cell_type": "code",
   "execution_count": null,
   "metadata": {},
   "outputs": [],
   "source": []
  }
 ],
 "metadata": {
  "kernelspec": {
   "display_name": "Python 3",
   "language": "python",
   "name": "python3"
  },
  "language_info": {
   "codemirror_mode": {
    "name": "ipython",
    "version": 3
   },
   "file_extension": ".py",
   "mimetype": "text/x-python",
   "name": "python",
   "nbconvert_exporter": "python",
   "pygments_lexer": "ipython3",
   "version": "3.7.0"
  }
 },
 "nbformat": 4,
 "nbformat_minor": 2
}
