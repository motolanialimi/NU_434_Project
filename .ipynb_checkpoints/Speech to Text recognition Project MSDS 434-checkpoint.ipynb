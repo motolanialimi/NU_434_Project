{
 "cells": [
  {
   "cell_type": "markdown",
   "metadata": {},
   "source": [
    "## Improving the quality of Speech-audio file: noise reduction and Accuracy\n"
   ]
  },
  {
   "cell_type": "code",
   "execution_count": 7,
   "metadata": {},
   "outputs": [],
   "source": [
    "# Import Speech Recognition Package\n",
    "import os\n",
    "import speech_recognition as spr\n",
    "import webbrowser as wb\n",
    "import pafy\n",
    "import vlc\n",
    "import urllib.request\n",
    "from bs4 import BeautifulSoup\n",
    "import time"
   ]
  },
  {
   "cell_type": "code",
   "execution_count": 8,
   "metadata": {},
   "outputs": [],
   "source": [
    "#Create an empty list to store all the video URLs from the youtube.com page\n",
    "linklist = []\n"
   ]
  },
  {
   "cell_type": "code",
   "execution_count": 9,
   "metadata": {},
   "outputs": [],
   "source": [
    "#Create Recognizer() class objects called recog1 and recog2\n",
    "recog1 = spr.Recognizer()\n",
    "recog2 = spr.Recognizer()"
   ]
  },
  {
   "cell_type": "code",
   "execution_count": 13,
   "metadata": {},
   "outputs": [],
   "source": [
    "#Create microphone instance with device microphone chosen whose index value is 0\n",
    "mc = spr.Microphone(device_index=0)\n"
   ]
  },
  {
   "cell_type": "code",
   "execution_count": 14,
   "metadata": {},
   "outputs": [
    {
     "name": "stdout",
     "output_type": "stream",
     "text": [
      "Search Youtube video to play\n",
      "----------------------------\n",
      "You can speak now\n"
     ]
    }
   ],
   "source": [
    "#Capture voice\n",
    "with mc as source:\n",
    "    print(\"Search Youtube video to play\")\n",
    "    print(\"----------------------------\")\n",
    "    print(\"You can speak now\")\n",
    "    audio = recog1.listen(source)"
   ]
  },
  {
   "cell_type": "markdown",
   "metadata": {},
   "source": [
    "## Convert Speech to Text - Effect of Noise"
   ]
  },
  {
   "cell_type": "code",
   "execution_count": 28,
   "metadata": {},
   "outputs": [
    {
     "data": {
      "text/plain": [
       "{'alternative': [{'transcript': \"Burt's News live on smooth plant young actress School reviews of Staff refurbished out loud explosion wipe the grease off of 30 face\",\n",
       "   'confidence': 0.799779},\n",
       "  {'transcript': 'Berks News live in the sewage plant young actress has 4 reviews of Staff refurbished out loud explosion wipe the grease off of 30 face'},\n",
       "  {'transcript': \"Burt's News live news new plant young actress has 4 reviews of Staff refurbished out loud explosion wipe the grease off of 30 face\"},\n",
       "  {'transcript': 'Berks News live on a 2.8 young actress School reviews of Staff refurbished out loud explosion wipe the grease off of 30 face'},\n",
       "  {'transcript': \"Burt's News live on smooth plant young actress School reviews of Staff refurbished out loud explosion wipe the grease off of 33\"}],\n",
       " 'final': True}"
      ]
     },
     "execution_count": 28,
     "metadata": {},
     "output_type": "execute_result"
    }
   ],
   "source": [
    "#We will be looking at the first auido file, which is a noisy bird in the background, Let's see what we can transcribe\n",
    "recog = spr.Recognizer()\n",
    "bird_noisy_speech = spr.AudioFile('Audio/noisy_bird_speech.wav')\n",
    "\n",
    "with bird_noisy_speech as noisesource:\n",
    "    audio = recog.record(noisesource)\n",
    "\n",
    "recog.recognize_google(audio, show_all = True)"
   ]
  },
  {
   "cell_type": "code",
   "execution_count": 26,
   "metadata": {},
   "outputs": [
    {
     "name": "stdout",
     "output_type": "stream",
     "text": [
      "This is audio_1 : Berks News live on smooth plant\n",
      "This is audio_2 : reverse the score of the Chiefs of Staff Freebirds\n"
     ]
    }
   ],
   "source": [
    "# Capture multiple portions of speech one after another\n",
    "with bird_noisy_speech as filesource:\n",
    "    audio_1 = recog.record(filesource, duration= 5)\n",
    "    audio_2 = recog.record(filesource, duration= 5)\n",
    "\n",
    "print(\"This is audio_1\",\":\", recog.recognize_google(audio_1))\n",
    "\n",
    "print(\"This is audio_2\", \":\", recog.recognize_google(audio_2))\n"
   ]
  },
  {
   "cell_type": "code",
   "execution_count": 27,
   "metadata": {},
   "outputs": [
    {
     "data": {
      "text/plain": [
       "{'alternative': [{'transcript': 'you slid on the smooth planks he knew the skill of the great young actress her purse is full of useless trash read verse out loud for pleasure wipe the grease off his dirty face',\n",
       "   'confidence': 0.84423167},\n",
       "  {'transcript': 'you slid on the smooth planks he knew the scale of the great young actress her purse is full of useless trash read verse out loud for pleasure wipe the grease off his dirty face'},\n",
       "  {'transcript': 'you slid on the smooth planks he knew the skill of the great young actress her purse was full of useless trash read verse out loud for pleasure wipe the grease off his dirty face'},\n",
       "  {'transcript': 'you slid on the smooth planks he knew the skill of the great young actress her purse is full of useless trash read burst out loud for pleasure wipe the grease off his dirty face'},\n",
       "  {'transcript': 'you slid on the smooth planks he knew the scale of the great young actress her purse was full of useless trash read verse out loud for pleasure wipe the grease off his dirty face'}],\n",
       " 'final': True}"
      ]
     },
     "execution_count": 27,
     "metadata": {},
     "output_type": "execute_result"
    }
   ],
   "source": [
    "#Looking at the clean noisy bird speech audio file, Let's see what the text is supposed to be. We will use adjust_for_ambient_noise to reduce the noise and know exactly what the text is\n",
    "bird_clean_speech = spr.AudioFile('Audio/cleanspeech.birds.wav')\n",
    "with bird_clean_speech as noisesource:\n",
    "    recog.adjust_for_ambient_noise(noisesource)\n",
    "    audio = recog.record(noisesource)\n",
    "\n",
    "recog.recognize_google(audio, show_all= True)"
   ]
  },
  {
   "cell_type": "code",
   "execution_count": null,
   "metadata": {},
   "outputs": [],
   "source": []
  },
  {
   "cell_type": "code",
   "execution_count": null,
   "metadata": {},
   "outputs": [],
   "source": []
  }
 ],
 "metadata": {
  "kernelspec": {
   "display_name": "Python 3",
   "language": "python",
   "name": "python3"
  },
  "language_info": {
   "codemirror_mode": {
    "name": "ipython",
    "version": 3
   },
   "file_extension": ".py",
   "mimetype": "text/x-python",
   "name": "python",
   "nbconvert_exporter": "python",
   "pygments_lexer": "ipython3",
   "version": "3.7.0"
  }
 },
 "nbformat": 4,
 "nbformat_minor": 2
}
